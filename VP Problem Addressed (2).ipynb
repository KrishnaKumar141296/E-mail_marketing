{
 "cells": [
  {
   "cell_type": "code",
   "execution_count": 1,
   "id": "617b56db-169c-4b63-bb85-12529268bb34",
   "metadata": {},
   "outputs": [],
   "source": [
    "import pandas as pd"
   ]
  },
  {
   "cell_type": "code",
   "execution_count": 2,
   "id": "326a6a8b-cb37-45a3-95c6-e7c24bc3b11a",
   "metadata": {},
   "outputs": [],
   "source": [
    "filepath=\"Desktop/email_table_result.csv\""
   ]
  },
  {
   "cell_type": "code",
   "execution_count": 3,
   "id": "908d9b2e-8201-4082-a93f-24e785c8c0fe",
   "metadata": {},
   "outputs": [],
   "source": [
    "df=pd.read_csv(filepath)"
   ]
  },
  {
   "cell_type": "code",
   "execution_count": 4,
   "id": "309eac8a-04e1-44b8-94ab-abce3fbe1197",
   "metadata": {},
   "outputs": [
    {
     "data": {
      "text/plain": [
       "Index(['email_id', 'email_text', 'email_version', 'hour', 'weekday',\n",
       "       'user_country', 'user_past_purchases', 'Mail_status', 'Unnamed: 8'],\n",
       "      dtype='object')"
      ]
     },
     "execution_count": 4,
     "metadata": {},
     "output_type": "execute_result"
    }
   ],
   "source": [
    "df.columns"
   ]
  },
  {
   "cell_type": "code",
   "execution_count": 5,
   "id": "21defe61-0da5-4dfd-9417-6f3076a9cd00",
   "metadata": {},
   "outputs": [
    {
     "data": {
      "text/html": [
       "<div>\n",
       "<style scoped>\n",
       "    .dataframe tbody tr th:only-of-type {\n",
       "        vertical-align: middle;\n",
       "    }\n",
       "\n",
       "    .dataframe tbody tr th {\n",
       "        vertical-align: top;\n",
       "    }\n",
       "\n",
       "    .dataframe thead th {\n",
       "        text-align: right;\n",
       "    }\n",
       "</style>\n",
       "<table border=\"1\" class=\"dataframe\">\n",
       "  <thead>\n",
       "    <tr style=\"text-align: right;\">\n",
       "      <th></th>\n",
       "      <th>email_id</th>\n",
       "      <th>email_text</th>\n",
       "      <th>email_version</th>\n",
       "      <th>hour</th>\n",
       "      <th>weekday</th>\n",
       "      <th>user_country</th>\n",
       "      <th>user_past_purchases</th>\n",
       "      <th>Mail_status</th>\n",
       "      <th>Unnamed: 8</th>\n",
       "    </tr>\n",
       "  </thead>\n",
       "  <tbody>\n",
       "    <tr>\n",
       "      <th>0</th>\n",
       "      <td>85120</td>\n",
       "      <td>short_email</td>\n",
       "      <td>personalized</td>\n",
       "      <td>2</td>\n",
       "      <td>Sunday</td>\n",
       "      <td>US</td>\n",
       "      <td>5</td>\n",
       "      <td>Unread</td>\n",
       "      <td>Unread</td>\n",
       "    </tr>\n",
       "    <tr>\n",
       "      <th>1</th>\n",
       "      <td>966622</td>\n",
       "      <td>long_email</td>\n",
       "      <td>personalized</td>\n",
       "      <td>12</td>\n",
       "      <td>Sunday</td>\n",
       "      <td>UK</td>\n",
       "      <td>2</td>\n",
       "      <td>Link clicked</td>\n",
       "      <td>Link clicked</td>\n",
       "    </tr>\n",
       "    <tr>\n",
       "      <th>2</th>\n",
       "      <td>777221</td>\n",
       "      <td>long_email</td>\n",
       "      <td>personalized</td>\n",
       "      <td>11</td>\n",
       "      <td>Wednesday</td>\n",
       "      <td>US</td>\n",
       "      <td>2</td>\n",
       "      <td>Unread</td>\n",
       "      <td>Unread</td>\n",
       "    </tr>\n",
       "    <tr>\n",
       "      <th>3</th>\n",
       "      <td>493711</td>\n",
       "      <td>short_email</td>\n",
       "      <td>generic</td>\n",
       "      <td>6</td>\n",
       "      <td>Monday</td>\n",
       "      <td>UK</td>\n",
       "      <td>1</td>\n",
       "      <td>Unread</td>\n",
       "      <td>Unread</td>\n",
       "    </tr>\n",
       "    <tr>\n",
       "      <th>4</th>\n",
       "      <td>106887</td>\n",
       "      <td>long_email</td>\n",
       "      <td>generic</td>\n",
       "      <td>14</td>\n",
       "      <td>Monday</td>\n",
       "      <td>US</td>\n",
       "      <td>6</td>\n",
       "      <td>Unread</td>\n",
       "      <td>Unread</td>\n",
       "    </tr>\n",
       "  </tbody>\n",
       "</table>\n",
       "</div>"
      ],
      "text/plain": [
       "   email_id   email_text email_version  hour    weekday user_country  \\\n",
       "0     85120  short_email  personalized     2     Sunday           US   \n",
       "1    966622   long_email  personalized    12     Sunday           UK   \n",
       "2    777221   long_email  personalized    11  Wednesday           US   \n",
       "3    493711  short_email       generic     6     Monday           UK   \n",
       "4    106887   long_email       generic    14     Monday           US   \n",
       "\n",
       "   user_past_purchases   Mail_status    Unnamed: 8  \n",
       "0                    5        Unread        Unread  \n",
       "1                    2  Link clicked  Link clicked  \n",
       "2                    2        Unread        Unread  \n",
       "3                    1        Unread        Unread  \n",
       "4                    6        Unread        Unread  "
      ]
     },
     "execution_count": 5,
     "metadata": {},
     "output_type": "execute_result"
    }
   ],
   "source": [
    "df.head()"
   ]
  },
  {
   "cell_type": "code",
   "execution_count": 6,
   "id": "bad8c295-93eb-439a-904c-e3dcf35f7fcb",
   "metadata": {},
   "outputs": [
    {
     "name": "stdout",
     "output_type": "stream",
     "text": [
      "['Unread' 'Link clicked' 'Mail opened']\n"
     ]
    }
   ],
   "source": [
    "unique_values = df['Mail_status'].unique()\n",
    "print(unique_values)"
   ]
  },
  {
   "cell_type": "code",
   "execution_count": null,
   "id": "c682caa3-8b25-46c8-bea3-b5dbb3a719bc",
   "metadata": {},
   "outputs": [],
   "source": [
    "\"In the above excel file is the merged file of mail opened and Link clicked and create the new column called Mail_status.\"\n",
    "\n",
    "\"In mail status we have 3 unique values, so crosschecking is completed.\"\n"
   ]
  },
  {
   "cell_type": "code",
   "execution_count": 29,
   "id": "aa8c9cb8-f5f4-4b38-8014-d4d8aaac1a68",
   "metadata": {},
   "outputs": [
    {
     "name": "stdout",
     "output_type": "stream",
     "text": [
      "Mail_status   Link clicked  Mail opened  Unread\n",
      "user_country                                   \n",
      "ES                      83          310    9574\n",
      "FR                      80          332    9583\n",
      "UK                     492         1915   17532\n",
      "US                    1464         5719   52916\n"
     ]
    }
   ],
   "source": [
    "count_df=df.groupby(['user_country','Mail_status']).size().reset_index(name='count')\n",
    "pivot_df = count_df.pivot(index='user_country', columns='Mail_status', values='count').fillna(0)\n",
    "print(pivot_df)"
   ]
  },
  {
   "cell_type": "code",
   "execution_count": null,
   "id": "dedaed94-e4f3-4586-97d7-73f0fd11c284",
   "metadata": {},
   "outputs": [],
   "source": [
    "\"From the above analysis arriving the below in percentage of mails\"\n",
    "\n",
    "\"Country   Link clicked   Mail opened  Mail unread\"\n",
    "\"Spain      0.8%          3.11%        96%\"\n",
    "\"France     0.8%          3.3%         95.8%\"\n",
    "\"UK         2.0%          9.6%         87.9%\"\n",
    "\"US         2.7%          9.5%         88.04%\"\n",
    "\n",
    "\"By seeing this percentage we need to send more mails to spain and france to get more link clicked by customer\""
   ]
  },
  {
   "cell_type": "code",
   "execution_count": 53,
   "id": "5361eaeb-1b3e-4d32-90c2-0a00f918be84",
   "metadata": {},
   "outputs": [
    {
     "name": "stdout",
     "output_type": "stream",
     "text": [
      "Mail_status  Link clicked  Mail opened  Unread\n",
      "hour                                          \n",
      "1                      32          145    1425\n",
      "2                      46          181    1991\n",
      "3                      70          208    2483\n",
      "4                      63          288    3071\n",
      "5                      82          287    3554\n",
      "6                      91          393    3959\n",
      "7                     101          398    4345\n",
      "8                     100          411    4565\n",
      "9                     145          565    4426\n",
      "10                    163          583    4202\n",
      "11                    136          521    3913\n",
      "12                    117          448    3327\n",
      "13                     82          347    2899\n",
      "14                     63          284    2392\n",
      "15                     59          189    1843\n",
      "16                     49          173    1478\n",
      "17                     29          122     984\n",
      "18                     10           84     769\n",
      "19                     10           34     504\n",
      "20                      8           33     362\n",
      "21                      1           12     200\n",
      "22                      1            4     119\n",
      "23                      4            3      72\n",
      "24                      2            6      33\n"
     ]
    }
   ],
   "source": [
    "df_us = df[df['user_country'] == 'US']\n",
    "pivot_table = df_us.pivot_table(\n",
    "    index='hour',\n",
    "    columns='Mail_status',\n",
    "    aggfunc='size',\n",
    "    fill_value=0        \n",
    ")\n",
    "print(pivot_table)"
   ]
  },
  {
   "cell_type": "code",
   "execution_count": null,
   "id": "05a2f147-8cf7-41f1-afee-12937592e268",
   "metadata": {},
   "outputs": [],
   "source": [
    "\"By seeing the above results we came to conclusion time 7 to 12 is the best time to send mails for US to get the most of the people visited our site\""
   ]
  },
  {
   "cell_type": "code",
   "execution_count": 54,
   "id": "517160ea-4e50-4c83-b8f3-c6365ed8b254",
   "metadata": {},
   "outputs": [
    {
     "name": "stdout",
     "output_type": "stream",
     "text": [
      "Mail_status  Link clicked  Mail opened  Unread\n",
      "hour                                          \n",
      "1                      15           37     502\n",
      "2                       9           68     657\n",
      "3                      10           73     832\n",
      "4                      22           96    1014\n",
      "5                      26          103    1181\n",
      "6                      28          119    1366\n",
      "7                      39          148    1485\n",
      "8                      46          127    1475\n",
      "9                      59          220    1503\n",
      "10                     47          205    1278\n",
      "11                     46          167    1246\n",
      "12                     37          141    1122\n",
      "13                     24          111     975\n",
      "14                     23           90     801\n",
      "15                     23           70     596\n",
      "16                     12           39     477\n",
      "17                      6           37     325\n",
      "18                     10           19     252\n",
      "19                      4           14     160\n",
      "20                      0           15     123\n",
      "21                      2            6      77\n",
      "22                      2            6      40\n",
      "23                      2            1      34\n",
      "24                      0            3      11\n"
     ]
    }
   ],
   "source": [
    "df_uk = df[df['user_country'] == 'UK']\n",
    "pivot_table = df_uk.pivot_table(\n",
    "    index='hour',\n",
    "    columns='Mail_status',\n",
    "    aggfunc='size',\n",
    "    fill_value=0        \n",
    ")\n",
    "print(pivot_table)"
   ]
  },
  {
   "cell_type": "code",
   "execution_count": null,
   "id": "39f24e0b-f12a-44dd-b645-f1c7d11f8ad3",
   "metadata": {},
   "outputs": [],
   "source": [
    "\"By seeing the above results we came to conclusion time 7 to 12 is the best time to send mails for UK to get the most of the people visited our site\""
   ]
  },
  {
   "cell_type": "code",
   "execution_count": 55,
   "id": "1729ce85-7a9a-4522-848d-195c53627352",
   "metadata": {},
   "outputs": [
    {
     "name": "stdout",
     "output_type": "stream",
     "text": [
      "Mail_status  Link clicked  Mail opened  Unread\n",
      "hour                                          \n",
      "1                       1            6     251\n",
      "2                       4           10     354\n",
      "3                       8            9     452\n",
      "4                       2           11     537\n",
      "5                       7           20     657\n",
      "6                       6           22     725\n",
      "7                       4           26     806\n",
      "8                       4           19     784\n",
      "9                       8           33     774\n",
      "10                      6           38     800\n",
      "11                     12           30     692\n",
      "12                      4           27     664\n",
      "13                      3           25     561\n",
      "14                      5           15     452\n",
      "15                      3           14     330\n",
      "16                      1           11     237\n",
      "17                      0            7     183\n",
      "18                      1            5     122\n",
      "19                      0            1      73\n",
      "20                      0            2      55\n",
      "21                      0            0      39\n",
      "22                      1            0      14\n",
      "23                      0            1      13\n",
      "24                      0            0       8\n"
     ]
    }
   ],
   "source": [
    "df_fr = df[df['user_country'] == 'FR']\n",
    "pivot_table = df_fr.pivot_table(\n",
    "    index='hour',\n",
    "    columns='Mail_status',\n",
    "    aggfunc='size',\n",
    "    fill_value=0        \n",
    ")\n",
    "print(pivot_table)"
   ]
  },
  {
   "cell_type": "code",
   "execution_count": null,
   "id": "e93a54dc-faae-441f-be28-7af81d94b4f4",
   "metadata": {},
   "outputs": [],
   "source": [
    "\"By seeing the above results we came to conclusion time 11 is the best time to send mails for France to get the most of the people visited our site\""
   ]
  },
  {
   "cell_type": "code",
   "execution_count": 56,
   "id": "98a6130b-19a1-4560-824d-8466480817d9",
   "metadata": {},
   "outputs": [
    {
     "name": "stdout",
     "output_type": "stream",
     "text": [
      "Mail_status  Link clicked  Mail opened  Unread\n",
      "hour                                          \n",
      "1                       1            4     284\n",
      "2                       1            6     349\n",
      "3                       2           11     452\n",
      "4                       4           12     502\n",
      "5                       3           13     618\n",
      "6                       3           16     737\n",
      "7                       6           21     825\n",
      "8                       9           28     830\n",
      "9                       8           39     749\n",
      "10                     15           31     812\n",
      "11                      9           32     679\n",
      "12                      9           29     583\n",
      "13                      2           17     535\n",
      "14                      4           22     429\n",
      "15                      2           10     354\n",
      "16                      2            5     275\n",
      "17                      0            6     194\n",
      "18                      2            3     144\n",
      "19                      1            4     100\n",
      "20                      0            0      58\n",
      "21                      0            0      28\n",
      "22                      0            0      17\n",
      "23                      0            1      14\n",
      "24                      0            0       6\n"
     ]
    }
   ],
   "source": [
    "df_es = df[df['user_country'] == 'ES']\n",
    "pivot_table = df_es.pivot_table(\n",
    "    index='hour',\n",
    "    columns='Mail_status',\n",
    "    aggfunc='size',\n",
    "    fill_value=0        \n",
    ")\n",
    "print(pivot_table)"
   ]
  },
  {
   "cell_type": "code",
   "execution_count": null,
   "id": "1113cb3b-0f39-4d4d-b444-2b8527c4492b",
   "metadata": {},
   "outputs": [],
   "source": [
    "\"By seeing the above results we came to conclusion time 8 to 12 is the best time to send mails for Spain to get the most of the people visited our site\""
   ]
  },
  {
   "cell_type": "code",
   "execution_count": 39,
   "id": "6ea7fb16-c6fa-4538-bb31-9f4b0cca2a08",
   "metadata": {},
   "outputs": [
    {
     "name": "stdout",
     "output_type": "stream",
     "text": [
      "Mail_status          Link clicked  Mail opened   Unread\n",
      "user_past_purchases                                    \n",
      "0                             7.0        530.0  13340.0\n",
      "1                           154.0       1129.0  12468.0\n",
      "2                           200.0       1128.0  11708.0\n",
      "3                           200.0       1112.0  10765.0\n",
      "4                           230.0        972.0   9541.0\n",
      "5                           201.0        854.0   7987.0\n",
      "6                           241.0        691.0   6586.0\n",
      "7                           186.0        565.0   5300.0\n",
      "8                           174.0        439.0   3780.0\n",
      "9                           150.0        294.0   2852.0\n",
      "10                          110.0        219.0   2034.0\n",
      "11                           87.0        148.0   1318.0\n",
      "12                           62.0         73.0    809.0\n",
      "13                           38.0         43.0    497.0\n",
      "14                           33.0         38.0    291.0\n",
      "15                           22.0         15.0    151.0\n",
      "16                           12.0         10.0     80.0\n",
      "17                            5.0          6.0     49.0\n",
      "18                            1.0          6.0     28.0\n",
      "19                            3.0          0.0     12.0\n",
      "20                            0.0          4.0      7.0\n",
      "21                            2.0          0.0      2.0\n",
      "22                            1.0          0.0      0.0\n"
     ]
    }
   ],
   "source": [
    "#Above we seen by hours now we going to map this parameter with no of purchase done by the customer#\n",
    "count_df=df.groupby(['user_past_purchases','Mail_status']).size().reset_index(name='count')\n",
    "pivot_df = count_df.pivot(index='user_past_purchases', columns='Mail_status', values='count').fillna(0)\n",
    "print(pivot_df)"
   ]
  },
  {
   "cell_type": "code",
   "execution_count": null,
   "id": "7ca51639-8acb-454a-b085-53b0aa27d75a",
   "metadata": {},
   "outputs": [],
   "source": [
    "\"From the above datas now we need to mainly focus on our customer who purchased with us from 2 to 6 no of times, \""
   ]
  },
  {
   "cell_type": "code",
   "execution_count": 19,
   "id": "f036fecf-e811-4a60-874e-6745a0b99b86",
   "metadata": {},
   "outputs": [],
   "source": [
    "import seaborn as sns\n",
    "import matplotlib.pyplot as plt"
   ]
  },
  {
   "cell_type": "code",
   "execution_count": 21,
   "id": "8c5cec27-b155-4fad-bcd2-a99cfda08ca9",
   "metadata": {},
   "outputs": [
    {
     "data": {
      "text/plain": [
       "<matplotlib.collections.PathCollection at 0x1b296793ef0>"
      ]
     },
     "execution_count": 21,
     "metadata": {},
     "output_type": "execute_result"
    },
    {
     "data": {
      "image/png": "[encoded data removed]",
      "text/plain": [
       "<Figure size 1200x600 with 1 Axes>"
      ]
     },
     "metadata": {},
     "output_type": "display_data"
    }
   ],
   "source": [
    "color_map= {\n",
    "    'Unread':'red',\n",
    "    'Mail opened':'yellow',\n",
    "    'Link clicked':'green'\n",
    "}\n",
    "df['color']=df['Mail_status'].map(color_map)\n",
    "\n",
    "plt.figure(figsize=(12,6))\n",
    "plt.scatter(df['hour'],df['user_country'],c=df['color'],alpha=0.7)\n",
    "\n",
    "    "
   ]
  },
  {
   "cell_type": "code",
   "execution_count": 40,
   "id": "707abb58-1f68-41b0-9738-95784ae0f59d",
   "metadata": {},
   "outputs": [
    {
     "data": {
      "text/plain": [
       "<matplotlib.collections.PathCollection at 0x1b29674f7a0>"
      ]
     },
     "execution_count": 40,
     "metadata": {},
     "output_type": "execute_result"
    },
    {
     "data": {
      "image/png": "[encoded data removed]",
      "text/plain": [
       "<Figure size 1200x600 with 1 Axes>"
      ]
     },
     "metadata": {},
     "output_type": "display_data"
    }
   ],
   "source": [
    "import seaborn as sns\n",
    "import matplotlib.pyplot as plt\n",
    "\n",
    "color_map= {\n",
    "    'Unread':'red',\n",
    "    'Mail opened':'yellow',\n",
    "    'Link clicked':'green'\n",
    "}\n",
    "df['color']=df['Mail_status'].map(color_map)\n",
    "\n",
    "plt.figure(figsize=(12,6))\n",
    "plt.scatter(df['hour'],df['user_past_purchases'],c=df['color'],alpha=0.7)\n"
   ]
  },
  {
   "cell_type": "code",
   "execution_count": 43,
   "id": "20e93d85-8a35-4497-b49f-bfdd6bdf53d2",
   "metadata": {},
   "outputs": [
    {
     "name": "stdout",
     "output_type": "stream",
     "text": [
      "Mail_status  Link clicked  Mail opened  Unread\n",
      "email_text                                    \n",
      "long_email            932         3680   45664\n",
      "short_email          1187         4596   43941\n"
     ]
    }
   ],
   "source": [
    "count_df=df.groupby(['email_text','Mail_status']).size().reset_index(name='count')\n",
    "pivot_df = count_df.pivot(index='email_text', columns='Mail_status', values='count').fillna(0)\n",
    "print(pivot_df)"
   ]
  },
  {
   "cell_type": "code",
   "execution_count": null,
   "id": "81260540-d3bc-4d18-8491-3fb83f8dc886",
   "metadata": {},
   "outputs": [],
   "source": [
    "\"From the above result we can see people like short email more than long email\""
   ]
  },
  {
   "cell_type": "code",
   "execution_count": 44,
   "id": "9e3afe13-50fa-4304-9325-c5bf48734bcd",
   "metadata": {},
   "outputs": [
    {
     "name": "stdout",
     "output_type": "stream",
     "text": [
      "Mail_status    Link clicked  Mail opened  Unread\n",
      "email_version                                   \n",
      "generic                 760         3255   46194\n",
      "personalized           1359         5021   43411\n"
     ]
    }
   ],
   "source": [
    "count_df=df.groupby(['email_version','Mail_status']).size().reset_index(name='count')\n",
    "pivot_df = count_df.pivot(index='email_version', columns='Mail_status', values='count').fillna(0)\n",
    "print(pivot_df)"
   ]
  },
  {
   "cell_type": "code",
   "execution_count": null,
   "id": "2872125e-dd70-421e-a1ec-25db38d649ef",
   "metadata": {},
   "outputs": [],
   "source": [
    "\"From the above result we can see people like personalised email more than generic email.\""
   ]
  },
  {
   "cell_type": "code",
   "execution_count": 45,
   "id": "142bca5c-2442-40f8-839a-c16e632e818f",
   "metadata": {},
   "outputs": [
    {
     "name": "stdout",
     "output_type": "stream",
     "text": [
      "Mail_status  Link clicked  Mail opened  Unread\n",
      "weekday                                       \n",
      "Friday                 62          211    2601\n",
      "Monday                 62          328    2474\n",
      "Saturday               60          222    2655\n",
      "Sunday                 66          229    2563\n",
      "Thursday               73          301    2427\n",
      "Tuesday                70          319    2471\n",
      "Wednesday              99          305    2341\n"
     ]
    }
   ],
   "source": [
    "df_uk = df[df['user_country'] == 'UK']\n",
    "pivot_table = df_uk.pivot_table(\n",
    "    index='weekday',\n",
    "    columns='Mail_status',\n",
    "    aggfunc='size',\n",
    "    fill_value=0        \n",
    ")\n",
    "print(pivot_table)"
   ]
  },
  {
   "cell_type": "code",
   "execution_count": null,
   "id": "306fc2a0-44f8-4e99-905a-e7d0dfc4f577",
   "metadata": {},
   "outputs": [],
   "source": [
    "\"Tuesday, Wednesday and Thursday are the best days to send the email for targeting United Kingdom\""
   ]
  },
  {
   "cell_type": "code",
   "execution_count": 57,
   "id": "7012eadc-cdd6-4156-80ad-7f04731be1b2",
   "metadata": {},
   "outputs": [
    {
     "name": "stdout",
     "output_type": "stream",
     "text": [
      "Mail_status  Link clicked  Mail opened  Unread\n",
      "weekday                                       \n",
      "Friday                125          603    7817\n",
      "Monday                231          894    7503\n",
      "Saturday              183          726    7772\n",
      "Sunday                161          722    7800\n",
      "Thursday              252          939    7455\n",
      "Tuesday               251          941    7236\n",
      "Wednesday             261          894    7333\n"
     ]
    }
   ],
   "source": [
    "df_us = df[df['user_country'] == 'US']\n",
    "pivot_table = df_us.pivot_table(\n",
    "    index='weekday',\n",
    "    columns='Mail_status',\n",
    "    aggfunc='size',\n",
    "    fill_value=0        \n",
    ")\n",
    "print(pivot_table)"
   ]
  },
  {
   "cell_type": "code",
   "execution_count": null,
   "id": "31b3409a-29cc-4a52-869c-33715810fd11",
   "metadata": {},
   "outputs": [],
   "source": [
    "\"Monday, Tuesday, Wednesday and Thursday are the best days to send the email for targeting United states\""
   ]
  },
  {
   "cell_type": "code",
   "execution_count": 58,
   "id": "1a185e26-bec5-4cc5-b4bd-453e76dc5263",
   "metadata": {},
   "outputs": [
    {
     "name": "stdout",
     "output_type": "stream",
     "text": [
      "Mail_status  Link clicked  Mail opened  Unread\n",
      "weekday                                       \n",
      "Friday                  6           23    1342\n",
      "Monday                 19           61    1391\n",
      "Saturday                4           34    1440\n",
      "Sunday                  6           40    1375\n",
      "Thursday               11           49    1371\n",
      "Tuesday                21           50    1331\n",
      "Wednesday              16           53    1324\n"
     ]
    }
   ],
   "source": [
    "df_es = df[df['user_country'] == 'ES']\n",
    "pivot_table = df_es.pivot_table(\n",
    "    index='weekday',\n",
    "    columns='Mail_status',\n",
    "    aggfunc='size',\n",
    "    fill_value=0        \n",
    ")\n",
    "print(pivot_table)"
   ]
  },
  {
   "cell_type": "code",
   "execution_count": null,
   "id": "bb908174-905c-44cb-8a31-047d1cd48fe7",
   "metadata": {},
   "outputs": [],
   "source": [
    "\"Monday, Tuesday, Wednesday are the best days to send the email for targeting Spain\""
   ]
  },
  {
   "cell_type": "code",
   "execution_count": 59,
   "id": "1df00dad-6082-4c08-b642-24a3f806a06d",
   "metadata": {},
   "outputs": [
    {
     "name": "stdout",
     "output_type": "stream",
     "text": [
      "Mail_status  Link clicked  Mail opened  Unread\n",
      "weekday                                       \n",
      "Friday                  6           27    1354\n",
      "Monday                 17           60    1323\n",
      "Saturday               13           40    1420\n",
      "Sunday                  8           42    1375\n",
      "Thursday               13           56    1330\n",
      "Tuesday                10           48    1395\n",
      "Wednesday              13           59    1386\n"
     ]
    }
   ],
   "source": [
    "df_fr = df[df['user_country'] == 'FR']\n",
    "pivot_table = df_fr.pivot_table(\n",
    "    index='weekday',\n",
    "    columns='Mail_status',\n",
    "    aggfunc='size',\n",
    "    fill_value=0        \n",
    ")\n",
    "print(pivot_table)"
   ]
  },
  {
   "cell_type": "raw",
   "id": "810bacb2-6285-4776-a0da-d4ed4a472966",
   "metadata": {},
   "source": [
    "Monday, Tuesday, Wednesday and Thursday are the best days to send the email for targeting France"
   ]
  },
  {
   "cell_type": "raw",
   "id": "89c798dd-1d3e-46ad-9afa-e5fe9a4e44d0",
   "metadata": {},
   "source": [
    "                                          Random Tree Forest model implementation"
   ]
  },
  {
   "cell_type": "code",
   "execution_count": 60,
   "id": "b5eac3ab-04ab-41aa-b09f-d995e306241e",
   "metadata": {},
   "outputs": [],
   "source": [
    "import pandas as pd\n",
    "from sklearn.model_selection import train_test_split\n",
    "from sklearn.preprocessing import LabelEncoder\n",
    "from sklearn.ensemble import RandomForestClassifier\n",
    "from sklearn.metrics import classification_report, confusion_matrix"
   ]
  },
  {
   "cell_type": "code",
   "execution_count": 61,
   "id": "c84625c6-c8e7-423d-bfdd-f5fc9a9924fe",
   "metadata": {},
   "outputs": [],
   "source": [
    "df=pd.read_csv(filepath)"
   ]
  },
  {
   "cell_type": "code",
   "execution_count": 63,
   "id": "4807a70e-9cf5-4c96-95df-9cdbdcd1c2e9",
   "metadata": {},
   "outputs": [],
   "source": [
    "categorical_cols = df.select_dtypes(include='object').columns.tolist()\n",
    "categorical_cols.remove('Mail_status')"
   ]
  },
  {
   "cell_type": "code",
   "execution_count": 64,
   "id": "1f2143b4-6b93-4fb1-9ecf-a26692191987",
   "metadata": {},
   "outputs": [],
   "source": [
    "label_encoders = {}\n",
    "for col in categorical_cols:\n",
    "    le = LabelEncoder()\n",
    "    df[col] = le.fit_transform(df[col])\n",
    "    label_encoders[col] = le"
   ]
  },
  {
   "cell_type": "code",
   "execution_count": 65,
   "id": "22c797a5-b1cd-4087-a7de-7b0b4e3743cd",
   "metadata": {},
   "outputs": [],
   "source": [
    "target_encoder = LabelEncoder()\n",
    "df['Mail_status'] = target_encoder.fit_transform(df['Mail_status'])"
   ]
  },
  {
   "cell_type": "code",
   "execution_count": 66,
   "id": "cb081020-2312-481b-90df-c9f347ba560d",
   "metadata": {},
   "outputs": [],
   "source": [
    "X = df.drop(columns=['Mail_status'])\n",
    "y = df['Mail_status']"
   ]
  },
  {
   "cell_type": "code",
   "execution_count": 67,
   "id": "972ce12b-b6d2-4290-ad4f-91dbdbe4bf3f",
   "metadata": {},
   "outputs": [],
   "source": [
    "X_train, X_test, y_train, y_test = train_test_split(\n",
    "    X, y, test_size=0.2, random_state=42, stratify=y\n",
    ")"
   ]
  },
  {
   "cell_type": "code",
   "execution_count": 75,
   "id": "5af0ecfc-e649-4709-8cbe-f972a669db21",
   "metadata": {},
   "outputs": [
    {
     "data": {
      "text/html": [
       "<style>#sk-container-id-3 {\n",
       "  /* Definition of color scheme common for light and dark mode */\n",
       "  --sklearn-color-text: black;\n",
       "  --sklearn-color-line: gray;\n",
       "  /* Definition of color scheme for unfitted estimators */\n",
       "  --sklearn-color-unfitted-level-0: #fff5e6;\n",
       "  --sklearn-color-unfitted-level-1: #f6e4d2;\n",
       "  --sklearn-color-unfitted-level-2: #ffe0b3;\n",
       "  --sklearn-color-unfitted-level-3: chocolate;\n",
       "  /* Definition of color scheme for fitted estimators */\n",
       "  --sklearn-color-fitted-level-0: #f0f8ff;\n",
       "  --sklearn-color-fitted-level-1: #d4ebff;\n",
       "  --sklearn-color-fitted-level-2: #b3dbfd;\n",
       "  --sklearn-color-fitted-level-3: cornflowerblue;\n",
       "\n",
       "  /* Specific color for light theme */\n",
       "  --sklearn-color-text-on-default-background: var(--sg-text-color, var(--theme-code-foreground, var(--jp-content-font-color1, black)));\n",
       "  --sklearn-color-background: var(--sg-background-color, var(--theme-background, var(--jp-layout-color0, white)));\n",
       "  --sklearn-color-border-box: var(--sg-text-color, var(--theme-code-foreground, var(--jp-content-font-color1, black)));\n",
       "  --sklearn-color-icon: #696969;\n",
       "\n",
       "  @media (prefers-color-scheme: dark) {\n",
       "    /* Redefinition of color scheme for dark theme */\n",
       "    --sklearn-color-text-on-default-background: var(--sg-text-color, var(--theme-code-foreground, var(--jp-content-font-color1, white)));\n",
       "    --sklearn-color-background: var(--sg-background-color, var(--theme-background, var(--jp-layout-color0, #111)));\n",
       "    --sklearn-color-border-box: var(--sg-text-color, var(--theme-code-foreground, var(--jp-content-font-color1, white)));\n",
       "    --sklearn-color-icon: #878787;\n",
       "  }\n",
       "}\n",
       "\n",
       "#sk-container-id-3 {\n",
       "  color: var(--sklearn-color-text);\n",
       "}\n",
       "\n",
       "#sk-container-id-3 pre {\n",
       "  padding: 0;\n",
       "}\n",
       "\n",
       "#sk-container-id-3 input.sk-hidden--visually {\n",
       "  border: 0;\n",
       "  clip: rect(1px 1px 1px 1px);\n",
       "  clip: rect(1px, 1px, 1px, 1px);\n",
       "  height: 1px;\n",
       "  margin: -1px;\n",
       "  overflow: hidden;\n",
       "  padding: 0;\n",
       "  position: absolute;\n",
       "  width: 1px;\n",
       "}\n",
       "\n",
       "#sk-container-id-3 div.sk-dashed-wrapped {\n",
       "  border: 1px dashed var(--sklearn-color-line);\n",
       "  margin: 0 0.4em 0.5em 0.4em;\n",
       "  box-sizing: border-box;\n",
       "  padding-bottom: 0.4em;\n",
       "  background-color: var(--sklearn-color-background);\n",
       "}\n",
       "\n",
       "#sk-container-id-3 div.sk-container {\n",
       "  /* jupyter's `normalize.less` sets `[hidden] { display: none; }`\n",
       "     but bootstrap.min.css set `[hidden] { display: none !important; }`\n",
       "     so we also need the `!important` here to be able to override the\n",
       "     default hidden behavior on the sphinx rendered scikit-learn.org.\n",
       "     See: https://github.com/scikit-learn/scikit-learn/issues/21755 */\n",
       "  display: inline-block !important;\n",
       "  position: relative;\n",
       "}\n",
       "\n",
       "#sk-container-id-3 div.sk-text-repr-fallback {\n",
       "  display: none;\n",
       "}\n",
       "\n",
       "div.sk-parallel-item,\n",
       "div.sk-serial,\n",
       "div.sk-item {\n",
       "  /* draw centered vertical line to link estimators */\n",
       "  background-image: linear-gradient(var(--sklearn-color-text-on-default-background), var(--sklearn-color-text-on-default-background));\n",
       "  background-size: 2px 100%;\n",
       "  background-repeat: no-repeat;\n",
       "  background-position: center center;\n",
       "}\n",
       "\n",
       "/* Parallel-specific style estimator block */\n",
       "\n",
       "#sk-container-id-3 div.sk-parallel-item::after {\n",
       "  content: \"\";\n",
       "  width: 100%;\n",
       "  border-bottom: 2px solid var(--sklearn-color-text-on-default-background);\n",
       "  flex-grow: 1;\n",
       "}\n",
       "\n",
       "#sk-container-id-3 div.sk-parallel {\n",
       "  display: flex;\n",
       "  align-items: stretch;\n",
       "  justify-content: center;\n",
       "  background-color: var(--sklearn-color-background);\n",
       "  position: relative;\n",
       "}\n",
       "\n",
       "#sk-container-id-3 div.sk-parallel-item {\n",
       "  display: flex;\n",
       "  flex-direction: column;\n",
       "}\n",
       "\n",
       "#sk-container-id-3 div.sk-parallel-item:first-child::after {\n",
       "  align-self: flex-end;\n",
       "  width: 50%;\n",
       "}\n",
       "\n",
       "#sk-container-id-3 div.sk-parallel-item:last-child::after {\n",
       "  align-self: flex-start;\n",
       "  width: 50%;\n",
       "}\n",
       "\n",
       "#sk-container-id-3 div.sk-parallel-item:only-child::after {\n",
       "  width: 0;\n",
       "}\n",
       "\n",
       "/* Serial-specific style estimator block */\n",
       "\n",
       "#sk-container-id-3 div.sk-serial {\n",
       "  display: flex;\n",
       "  flex-direction: column;\n",
       "  align-items: center;\n",
       "  background-color: var(--sklearn-color-background);\n",
       "  padding-right: 1em;\n",
       "  padding-left: 1em;\n",
       "}\n",
       "\n",
       "\n",
       "/* Toggleable style: style used for estimator/Pipeline/ColumnTransformer box that is\n",
       "clickable and can be expanded/collapsed.\n",
       "- Pipeline and ColumnTransformer use this feature and define the default style\n",
       "- Estimators will overwrite some part of the style using the `sk-estimator` class\n",
       "*/\n",
       "\n",
       "/* Pipeline and ColumnTransformer style (default) */\n",
       "\n",
       "#sk-container-id-3 div.sk-toggleable {\n",
       "  /* Default theme specific background. It is overwritten whether we have a\n",
       "  specific estimator or a Pipeline/ColumnTransformer */\n",
       "  background-color: var(--sklearn-color-background);\n",
       "}\n",
       "\n",
       "/* Toggleable label */\n",
       "#sk-container-id-3 label.sk-toggleable__label {\n",
       "  cursor: pointer;\n",
       "  display: block;\n",
       "  width: 100%;\n",
       "  margin-bottom: 0;\n",
       "  padding: 0.5em;\n",
       "  box-sizing: border-box;\n",
       "  text-align: center;\n",
       "}\n",
       "\n",
       "#sk-container-id-3 label.sk-toggleable__label-arrow:before {\n",
       "  /* Arrow on the left of the label */\n",
       "  content: \"▸\";\n",
       "  float: left;\n",
       "  margin-right: 0.25em;\n",
       "  color: var(--sklearn-color-icon);\n",
       "}\n",
       "\n",
       "#sk-container-id-3 label.sk-toggleable__label-arrow:hover:before {\n",
       "  color: var(--sklearn-color-text);\n",
       "}\n",
       "\n",
       "/* Toggleable content - dropdown */\n",
       "\n",
       "#sk-container-id-3 div.sk-toggleable__content {\n",
       "  max-height: 0;\n",
       "  max-width: 0;\n",
       "  overflow: hidden;\n",
       "  text-align: left;\n",
       "  /* unfitted */\n",
       "  background-color: var(--sklearn-color-unfitted-level-0);\n",
       "}\n",
       "\n",
       "#sk-container-id-3 div.sk-toggleable__content.fitted {\n",
       "  /* fitted */\n",
       "  background-color: var(--sklearn-color-fitted-level-0);\n",
       "}\n",
       "\n",
       "#sk-container-id-3 div.sk-toggleable__content pre {\n",
       "  margin: 0.2em;\n",
       "  border-radius: 0.25em;\n",
       "  color: var(--sklearn-color-text);\n",
       "  /* unfitted */\n",
       "  background-color: var(--sklearn-color-unfitted-level-0);\n",
       "}\n",
       "\n",
       "#sk-container-id-3 div.sk-toggleable__content.fitted pre {\n",
       "  /* unfitted */\n",
       "  background-color: var(--sklearn-color-fitted-level-0);\n",
       "}\n",
       "\n",
       "#sk-container-id-3 input.sk-toggleable__control:checked~div.sk-toggleable__content {\n",
       "  /* Expand drop-down */\n",
       "  max-height: 200px;\n",
       "  max-width: 100%;\n",
       "  overflow: auto;\n",
       "}\n",
       "\n",
       "#sk-container-id-3 input.sk-toggleable__control:checked~label.sk-toggleable__label-arrow:before {\n",
       "  content: \"▾\";\n",
       "}\n",
       "\n",
       "/* Pipeline/ColumnTransformer-specific style */\n",
       "\n",
       "#sk-container-id-3 div.sk-label input.sk-toggleable__control:checked~label.sk-toggleable__label {\n",
       "  color: var(--sklearn-color-text);\n",
       "  background-color: var(--sklearn-color-unfitted-level-2);\n",
       "}\n",
       "\n",
       "#sk-container-id-3 div.sk-label.fitted input.sk-toggleable__control:checked~label.sk-toggleable__label {\n",
       "  background-color: var(--sklearn-color-fitted-level-2);\n",
       "}\n",
       "\n",
       "/* Estimator-specific style */\n",
       "\n",
       "/* Colorize estimator box */\n",
       "#sk-container-id-3 div.sk-estimator input.sk-toggleable__control:checked~label.sk-toggleable__label {\n",
       "  /* unfitted */\n",
       "  background-color: var(--sklearn-color-unfitted-level-2);\n",
       "}\n",
       "\n",
       "#sk-container-id-3 div.sk-estimator.fitted input.sk-toggleable__control:checked~label.sk-toggleable__label {\n",
       "  /* fitted */\n",
       "  background-color: var(--sklearn-color-fitted-level-2);\n",
       "}\n",
       "\n",
       "#sk-container-id-3 div.sk-label label.sk-toggleable__label,\n",
       "#sk-container-id-3 div.sk-label label {\n",
       "  /* The background is the default theme color */\n",
       "  color: var(--sklearn-color-text-on-default-background);\n",
       "}\n",
       "\n",
       "/* On hover, darken the color of the background */\n",
       "#sk-container-id-3 div.sk-label:hover label.sk-toggleable__label {\n",
       "  color: var(--sklearn-color-text);\n",
       "  background-color: var(--sklearn-color-unfitted-level-2);\n",
       "}\n",
       "\n",
       "/* Label box, darken color on hover, fitted */\n",
       "#sk-container-id-3 div.sk-label.fitted:hover label.sk-toggleable__label.fitted {\n",
       "  color: var(--sklearn-color-text);\n",
       "  background-color: var(--sklearn-color-fitted-level-2);\n",
       "}\n",
       "\n",
       "/* Estimator label */\n",
       "\n",
       "#sk-container-id-3 div.sk-label label {\n",
       "  font-family: monospace;\n",
       "  font-weight: bold;\n",
       "  display: inline-block;\n",
       "  line-height: 1.2em;\n",
       "}\n",
       "\n",
       "#sk-container-id-3 div.sk-label-container {\n",
       "  text-align: center;\n",
       "}\n",
       "\n",
       "/* Estimator-specific */\n",
       "#sk-container-id-3 div.sk-estimator {\n",
       "  font-family: monospace;\n",
       "  border: 1px dotted var(--sklearn-color-border-box);\n",
       "  border-radius: 0.25em;\n",
       "  box-sizing: border-box;\n",
       "  margin-bottom: 0.5em;\n",
       "  /* unfitted */\n",
       "  background-color: var(--sklearn-color-unfitted-level-0);\n",
       "}\n",
       "\n",
       "#sk-container-id-3 div.sk-estimator.fitted {\n",
       "  /* fitted */\n",
       "  background-color: var(--sklearn-color-fitted-level-0);\n",
       "}\n",
       "\n",
       "/* on hover */\n",
       "#sk-container-id-3 div.sk-estimator:hover {\n",
       "  /* unfitted */\n",
       "  background-color: var(--sklearn-color-unfitted-level-2);\n",
       "}\n",
       "\n",
       "#sk-container-id-3 div.sk-estimator.fitted:hover {\n",
       "  /* fitted */\n",
       "  background-color: var(--sklearn-color-fitted-level-2);\n",
       "}\n",
       "\n",
       "/* Specification for estimator info (e.g. \"i\" and \"?\") */\n",
       "\n",
       "/* Common style for \"i\" and \"?\" */\n",
       "\n",
       ".sk-estimator-doc-link,\n",
       "a:link.sk-estimator-doc-link,\n",
       "a:visited.sk-estimator-doc-link {\n",
       "  float: right;\n",
       "  font-size: smaller;\n",
       "  line-height: 1em;\n",
       "  font-family: monospace;\n",
       "  background-color: var(--sklearn-color-background);\n",
       "  border-radius: 1em;\n",
       "  height: 1em;\n",
       "  width: 1em;\n",
       "  text-decoration: none !important;\n",
       "  margin-left: 1ex;\n",
       "  /* unfitted */\n",
       "  border: var(--sklearn-color-unfitted-level-1) 1pt solid;\n",
       "  color: var(--sklearn-color-unfitted-level-1);\n",
       "}\n",
       "\n",
       ".sk-estimator-doc-link.fitted,\n",
       "a:link.sk-estimator-doc-link.fitted,\n",
       "a:visited.sk-estimator-doc-link.fitted {\n",
       "  /* fitted */\n",
       "  border: var(--sklearn-color-fitted-level-1) 1pt solid;\n",
       "  color: var(--sklearn-color-fitted-level-1);\n",
       "}\n",
       "\n",
       "/* On hover */\n",
       "div.sk-estimator:hover .sk-estimator-doc-link:hover,\n",
       ".sk-estimator-doc-link:hover,\n",
       "div.sk-label-container:hover .sk-estimator-doc-link:hover,\n",
       ".sk-estimator-doc-link:hover {\n",
       "  /* unfitted */\n",
       "  background-color: var(--sklearn-color-unfitted-level-3);\n",
       "  color: var(--sklearn-color-background);\n",
       "  text-decoration: none;\n",
       "}\n",
       "\n",
       "div.sk-estimator.fitted:hover .sk-estimator-doc-link.fitted:hover,\n",
       ".sk-estimator-doc-link.fitted:hover,\n",
       "div.sk-label-container:hover .sk-estimator-doc-link.fitted:hover,\n",
       ".sk-estimator-doc-link.fitted:hover {\n",
       "  /* fitted */\n",
       "  background-color: var(--sklearn-color-fitted-level-3);\n",
       "  color: var(--sklearn-color-background);\n",
       "  text-decoration: none;\n",
       "}\n",
       "\n",
       "/* Span, style for the box shown on hovering the info icon */\n",
       ".sk-estimator-doc-link span {\n",
       "  display: none;\n",
       "  z-index: 9999;\n",
       "  position: relative;\n",
       "  font-weight: normal;\n",
       "  right: .2ex;\n",
       "  padding: .5ex;\n",
       "  margin: .5ex;\n",
       "  width: min-content;\n",
       "  min-width: 20ex;\n",
       "  max-width: 50ex;\n",
       "  color: var(--sklearn-color-text);\n",
       "  box-shadow: 2pt 2pt 4pt #999;\n",
       "  /* unfitted */\n",
       "  background: var(--sklearn-color-unfitted-level-0);\n",
       "  border: .5pt solid var(--sklearn-color-unfitted-level-3);\n",
       "}\n",
       "\n",
       ".sk-estimator-doc-link.fitted span {\n",
       "  /* fitted */\n",
       "  background: var(--sklearn-color-fitted-level-0);\n",
       "  border: var(--sklearn-color-fitted-level-3);\n",
       "}\n",
       "\n",
       ".sk-estimator-doc-link:hover span {\n",
       "  display: block;\n",
       "}\n",
       "\n",
       "/* \"?\"-specific style due to the `<a>` HTML tag */\n",
       "\n",
       "#sk-container-id-3 a.estimator_doc_link {\n",
       "  float: right;\n",
       "  font-size: 1rem;\n",
       "  line-height: 1em;\n",
       "  font-family: monospace;\n",
       "  background-color: var(--sklearn-color-background);\n",
       "  border-radius: 1rem;\n",
       "  height: 1rem;\n",
       "  width: 1rem;\n",
       "  text-decoration: none;\n",
       "  /* unfitted */\n",
       "  color: var(--sklearn-color-unfitted-level-1);\n",
       "  border: var(--sklearn-color-unfitted-level-1) 1pt solid;\n",
       "}\n",
       "\n",
       "#sk-container-id-3 a.estimator_doc_link.fitted {\n",
       "  /* fitted */\n",
       "  border: var(--sklearn-color-fitted-level-1) 1pt solid;\n",
       "  color: var(--sklearn-color-fitted-level-1);\n",
       "}\n",
       "\n",
       "/* On hover */\n",
       "#sk-container-id-3 a.estimator_doc_link:hover {\n",
       "  /* unfitted */\n",
       "  background-color: var(--sklearn-color-unfitted-level-3);\n",
       "  color: var(--sklearn-color-background);\n",
       "  text-decoration: none;\n",
       "}\n",
       "\n",
       "#sk-container-id-3 a.estimator_doc_link.fitted:hover {\n",
       "  /* fitted */\n",
       "  background-color: var(--sklearn-color-fitted-level-3);\n",
       "}\n",
       "</style><div id=\"sk-container-id-3\" class=\"sk-top-container\"><div class=\"sk-text-repr-fallback\"><pre>RandomForestClassifier(random_state=42)</pre><b>In a Jupyter environment, please rerun this cell to show the HTML representation or trust the notebook. <br />On GitHub, the HTML representation is unable to render, please try loading this page with nbviewer.org.</b></div><div class=\"sk-container\" hidden><div class=\"sk-item\"><div class=\"sk-estimator fitted sk-toggleable\"><input class=\"sk-toggleable__control sk-hidden--visually\" id=\"sk-estimator-id-3\" type=\"checkbox\" checked><label for=\"sk-estimator-id-3\" class=\"sk-toggleable__label fitted sk-toggleable__label-arrow fitted\">&nbsp;&nbsp;RandomForestClassifier<a class=\"sk-estimator-doc-link fitted\" rel=\"noreferrer\" target=\"_blank\" href=\"https://scikit-learn.org/1.5/modules/generated/sklearn.ensemble.RandomForestClassifier.html\">?<span>Documentation for RandomForestClassifier</span></a><span class=\"sk-estimator-doc-link fitted\">i<span>Fitted</span></span></label><div class=\"sk-toggleable__content fitted\"><pre>RandomForestClassifier(random_state=42)</pre></div> </div></div></div></div>"
      ],
      "text/plain": [
       "RandomForestClassifier(random_state=42)"
      ]
     },
     "execution_count": 75,
     "metadata": {},
     "output_type": "execute_result"
    }
   ],
   "source": [
    "rf_model = RandomForestClassifier(n_estimators=100, random_state=42)\n",
    "rf_model.fit(X_train, y_train)"
   ]
  },
  {
   "cell_type": "code",
   "execution_count": 76,
   "id": "daeb153d-ddc5-45fe-95c5-db6c30e5501a",
   "metadata": {},
   "outputs": [],
   "source": [
    "y_pred = rf_model.predict(X_test)"
   ]
  },
  {
   "cell_type": "code",
   "execution_count": 77,
   "id": "9a55b84d-f816-439e-992f-238a50401425",
   "metadata": {},
   "outputs": [
    {
     "name": "stdout",
     "output_type": "stream",
     "text": [
      "Classification Report:\n",
      "               precision    recall  f1-score   support\n",
      "\n",
      "Link clicked       1.00      1.00      1.00       424\n",
      " Mail opened       1.00      1.00      1.00      1655\n",
      "      Unread       1.00      1.00      1.00     17921\n",
      "\n",
      "    accuracy                           1.00     20000\n",
      "   macro avg       1.00      1.00      1.00     20000\n",
      "weighted avg       1.00      1.00      1.00     20000\n",
      "\n",
      "Confusion Matrix:\n",
      " [[  424     0     0]\n",
      " [    0  1655     0]\n",
      " [    0     0 17921]]\n"
     ]
    }
   ],
   "source": [
    "print(\"Classification Report:\\n\", classification_report(y_test, y_pred, target_names=target_encoder.classes_))\n",
    "print(\"Confusion Matrix:\\n\", confusion_matrix(y_test, y_pred))"
   ]
  },
  {
   "cell_type": "code",
   "execution_count": null,
   "id": "7b5bcf63-afea-4798-bab6-fb048d474702",
   "metadata": {},
   "outputs": [],
   "source": []
  }
 ],
 "metadata": {
  "kernelspec": {
   "display_name": "Python 3 (ipykernel)",
   "language": "python",
   "name": "python3"
  },
  "language_info": {
   "codemirror_mode": {
    "name": "ipython",
    "version": 3
   },
   "file_extension": ".py",
   "mimetype": "text/x-python",
   "name": "python",
   "nbconvert_exporter": "python",
   "pygments_lexer": "ipython3",
   "version": "3.12.7"
  }
 },
 "nbformat": 4,
 "nbformat_minor": 5
}
