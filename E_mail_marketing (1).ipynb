{
 "cells": [
  {
   "cell_type": "code",
   "execution_count": 13,
   "id": "96eaf4b3-08b2-4f46-9041-6f699b0fdb3a",
   "metadata": {},
   "outputs": [],
   "source": [
    "import pandas as pd\n",
    "filepath=(\"Desktop/Machine Learning/E mail marketing/email_table.csv\")"
   ]
  },
  {
   "cell_type": "code",
   "execution_count": 14,
   "id": "137c7697-f901-431c-a7c0-bc3710c254a9",
   "metadata": {},
   "outputs": [],
   "source": [
    "df=pd.read_csv(filepath)"
   ]
  },
  {
   "cell_type": "code",
   "execution_count": 16,
   "id": "b9a6c685-c8d7-440f-9c4b-96854de01632",
   "metadata": {},
   "outputs": [
    {
     "data": {
      "text/plain": [
       "Index(['email_id', 'email_text', 'email_version', 'hour', 'weekday',\n",
       "       'user_country', 'user_past_purchases'],\n",
       "      dtype='object')"
      ]
     },
     "execution_count": 16,
     "metadata": {},
     "output_type": "execute_result"
    }
   ],
   "source": [
    "df.columns"
   ]
  },
  {
   "cell_type": "code",
   "execution_count": 17,
   "id": "dbb26115-9180-4230-a2f2-9a242a9aa224",
   "metadata": {},
   "outputs": [
    {
     "data": {
      "text/html": [
       "<div>\n",
       "<style scoped>\n",
       "    .dataframe tbody tr th:only-of-type {\n",
       "        vertical-align: middle;\n",
       "    }\n",
       "\n",
       "    .dataframe tbody tr th {\n",
       "        vertical-align: top;\n",
       "    }\n",
       "\n",
       "    .dataframe thead th {\n",
       "        text-align: right;\n",
       "    }\n",
       "</style>\n",
       "<table border=\"1\" class=\"dataframe\">\n",
       "  <thead>\n",
       "    <tr style=\"text-align: right;\">\n",
       "      <th></th>\n",
       "      <th>email_id</th>\n",
       "      <th>email_text</th>\n",
       "      <th>email_version</th>\n",
       "      <th>hour</th>\n",
       "      <th>weekday</th>\n",
       "      <th>user_country</th>\n",
       "      <th>user_past_purchases</th>\n",
       "    </tr>\n",
       "  </thead>\n",
       "  <tbody>\n",
       "    <tr>\n",
       "      <th>0</th>\n",
       "      <td>85120</td>\n",
       "      <td>short_email</td>\n",
       "      <td>personalized</td>\n",
       "      <td>2</td>\n",
       "      <td>Sunday</td>\n",
       "      <td>US</td>\n",
       "      <td>5</td>\n",
       "    </tr>\n",
       "    <tr>\n",
       "      <th>1</th>\n",
       "      <td>966622</td>\n",
       "      <td>long_email</td>\n",
       "      <td>personalized</td>\n",
       "      <td>12</td>\n",
       "      <td>Sunday</td>\n",
       "      <td>UK</td>\n",
       "      <td>2</td>\n",
       "    </tr>\n",
       "    <tr>\n",
       "      <th>2</th>\n",
       "      <td>777221</td>\n",
       "      <td>long_email</td>\n",
       "      <td>personalized</td>\n",
       "      <td>11</td>\n",
       "      <td>Wednesday</td>\n",
       "      <td>US</td>\n",
       "      <td>2</td>\n",
       "    </tr>\n",
       "    <tr>\n",
       "      <th>3</th>\n",
       "      <td>493711</td>\n",
       "      <td>short_email</td>\n",
       "      <td>generic</td>\n",
       "      <td>6</td>\n",
       "      <td>Monday</td>\n",
       "      <td>UK</td>\n",
       "      <td>1</td>\n",
       "    </tr>\n",
       "    <tr>\n",
       "      <th>4</th>\n",
       "      <td>106887</td>\n",
       "      <td>long_email</td>\n",
       "      <td>generic</td>\n",
       "      <td>14</td>\n",
       "      <td>Monday</td>\n",
       "      <td>US</td>\n",
       "      <td>6</td>\n",
       "    </tr>\n",
       "  </tbody>\n",
       "</table>\n",
       "</div>"
      ],
      "text/plain": [
       "   email_id   email_text email_version  hour    weekday user_country  \\\n",
       "0     85120  short_email  personalized     2     Sunday           US   \n",
       "1    966622   long_email  personalized    12     Sunday           UK   \n",
       "2    777221   long_email  personalized    11  Wednesday           US   \n",
       "3    493711  short_email       generic     6     Monday           UK   \n",
       "4    106887   long_email       generic    14     Monday           US   \n",
       "\n",
       "   user_past_purchases  \n",
       "0                    5  \n",
       "1                    2  \n",
       "2                    2  \n",
       "3                    1  \n",
       "4                    6  "
      ]
     },
     "execution_count": 17,
     "metadata": {},
     "output_type": "execute_result"
    }
   ],
   "source": [
    "df.head()"
   ]
  },
  {
   "cell_type": "code",
   "execution_count": 20,
   "id": "f92c6f1b-0734-46d6-8d21-97077100a0fe",
   "metadata": {},
   "outputs": [
    {
     "name": "stdout",
     "output_type": "stream",
     "text": [
      "Total Rows: 100000\n",
      "Total Columns: 7\n"
     ]
    }
   ],
   "source": [
    "rows, columns=df.shape\n",
    "print(f\"Total Rows: {rows}\")\n",
    "print(f\"Total Columns: {columns}\")"
   ]
  },
  {
   "cell_type": "code",
   "execution_count": 21,
   "id": "69df322f-bb53-411e-b271-a7262df6b8cb",
   "metadata": {},
   "outputs": [],
   "source": [
    "filepath1=(\"Desktop/Machine Learning/E mail marketing/email_opened_table.csv\")"
   ]
  },
  {
   "cell_type": "code",
   "execution_count": 22,
   "id": "2e669b44-dc8e-4271-9e87-a8bb51b8cf67",
   "metadata": {},
   "outputs": [],
   "source": [
    "df1=pd.read_csv(filepath1)"
   ]
  },
  {
   "cell_type": "code",
   "execution_count": 23,
   "id": "d449d782-031c-4ef9-a6cf-afae4eb1a4ac",
   "metadata": {},
   "outputs": [
    {
     "name": "stdout",
     "output_type": "stream",
     "text": [
      "Total Rows: 10345\n",
      "Total Columns: 1\n"
     ]
    }
   ],
   "source": [
    "rows, columns=df1.shape\n",
    "print(f\"Total Rows: {rows}\")\n",
    "print(f\"Total Columns: {columns}\")"
   ]
  },
  {
   "cell_type": "code",
   "execution_count": 30,
   "id": "30e591e3-417b-4773-aa54-c8646edc1540",
   "metadata": {},
   "outputs": [
    {
     "data": {
      "text/plain": [
       "Index(['email_id'], dtype='object')"
      ]
     },
     "execution_count": 30,
     "metadata": {},
     "output_type": "execute_result"
    }
   ],
   "source": [
    "df1.columns"
   ]
  },
  {
   "cell_type": "code",
   "execution_count": 24,
   "id": "966e2c98-fdd6-4fba-8097-bce2a6df538b",
   "metadata": {},
   "outputs": [],
   "source": [
    "filepath2=(\"Desktop/Machine Learning/E mail marketing/link_clicked_table.csv\")"
   ]
  },
  {
   "cell_type": "code",
   "execution_count": 25,
   "id": "e89c5d82-ae45-427e-9694-cbc5f64bc792",
   "metadata": {},
   "outputs": [],
   "source": [
    "df2=pd.read_csv(filepath2)"
   ]
  },
  {
   "cell_type": "code",
   "execution_count": 27,
   "id": "d9178d85-5f3a-459c-9e34-7a51d12d15b4",
   "metadata": {},
   "outputs": [
    {
     "name": "stdout",
     "output_type": "stream",
     "text": [
      "Total Rows: 2119\n",
      "Total Columns: 1\n"
     ]
    }
   ],
   "source": [
    "rows, columns=df2.shape\n",
    "print(f\"Total Rows: {rows}\")\n",
    "print(f\"Total Columns: {columns}\")"
   ]
  },
  {
   "cell_type": "code",
   "execution_count": 31,
   "id": "dbdd692d-029f-4a2d-a267-7fb59e326f51",
   "metadata": {},
   "outputs": [
    {
     "data": {
      "text/plain": [
       "Index(['email_id'], dtype='object')"
      ]
     },
     "execution_count": 31,
     "metadata": {},
     "output_type": "execute_result"
    }
   ],
   "source": [
    "df2.columns"
   ]
  },
  {
   "cell_type": "code",
   "execution_count": 29,
   "id": "7c11120e-96c5-4c49-bdc1-774f6f0cf101",
   "metadata": {},
   "outputs": [
    {
     "name": "stdout",
     "output_type": "stream",
     "text": [
      "Duplicate rows based on column 'email_id':\n",
      "\n",
      "Empty DataFrame\n",
      "Columns: [email_id, email_text, email_version, hour, weekday, user_country, user_past_purchases]\n",
      "Index: []\n"
     ]
    }
   ],
   "source": [
    "                                       \"Code to find the duplicate values in df\"\n",
    "column_name=\"email_id\"\n",
    "duplicates = df[df.duplicated(subset=[column_name])]\n",
    "print(f\"Duplicate rows based on column '{column_name}':\\n\")\n",
    "print(duplicates)"
   ]
  },
  {
   "cell_type": "code",
   "execution_count": 32,
   "id": "3ff497bc-3be9-4a38-8ae6-cd01aa291587",
   "metadata": {},
   "outputs": [
    {
     "name": "stdout",
     "output_type": "stream",
     "text": [
      "Duplicate rows based on column 'email_id':\n",
      "\n",
      "Empty DataFrame\n",
      "Columns: [email_id]\n",
      "Index: []\n"
     ]
    }
   ],
   "source": [
    "                                       \"Code to find the duplicate values in df1\"\n",
    "column_name=\"email_id\"\n",
    "duplicates = df1[df1.duplicated(subset=[column_name])]\n",
    "print(f\"Duplicate rows based on column '{column_name}':\\n\")\n",
    "print(duplicates)"
   ]
  },
  {
   "cell_type": "code",
   "execution_count": 33,
   "id": "4b7cd84e-d84c-46a5-b61f-0266115c47a3",
   "metadata": {},
   "outputs": [
    {
     "name": "stdout",
     "output_type": "stream",
     "text": [
      "Duplicate rows based on column 'email_id':\n",
      "\n",
      "Empty DataFrame\n",
      "Columns: [email_id]\n",
      "Index: []\n"
     ]
    }
   ],
   "source": [
    "                                       \"Code to find the duplicate values in df2\"\n",
    "column_name=\"email_id\"\n",
    "duplicates = df2[df2.duplicated(subset=[column_name])]\n",
    "print(f\"Duplicate rows based on column '{column_name}':\\n\")\n",
    "print(duplicates)"
   ]
  },
  {
   "cell_type": "code",
   "execution_count": null,
   "id": "c156d459-3197-4ec0-9e8a-ef728093ea09",
   "metadata": {},
   "outputs": [],
   "source": [
    "                                            \"Answer for the questions\"\n",
    "\n",
    "\"What percentage of users opened the email and what percentage clicked on the link within the email?\"\n",
    "\n",
    "\"Total Email ID used in the campaign: 1,00,000\"\n",
    "\"Total user opened email in campaign: 10,345\"\n",
    "\"Total user opened clicked the link in campaign: 2,119\"\n",
    "\n",
    "\"percentage of users opened the email: 10.34%\"\n",
    "\"percentage of users clicked the email link in the whole campaign: 2.11%\"\n",
    "\n"
   ]
  },
  {
   "cell_type": "code",
   "execution_count": null,
   "id": "76527b35-13a7-4870-bfe6-2efd032c1afd",
   "metadata": {},
   "outputs": [],
   "source": []
  }
 ],
 "metadata": {
  "kernelspec": {
   "display_name": "Python 3 (ipykernel)",
   "language": "python",
   "name": "python3"
  },
  "language_info": {
   "codemirror_mode": {
    "name": "ipython",
    "version": 3
   },
   "file_extension": ".py",
   "mimetype": "text/x-python",
   "name": "python",
   "nbconvert_exporter": "python",
   "pygments_lexer": "ipython3",
   "version": "3.12.7"
  }
 },
 "nbformat": 4,
 "nbformat_minor": 5
}
